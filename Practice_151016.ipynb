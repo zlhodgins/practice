{
 "metadata": {
  "name": "",
  "signature": "sha256:12d134a693ffdd877a3fcc45e1ac1b3b12c6f4f9797e4201dfe173b325c005f5"
 },
 "nbformat": 3,
 "nbformat_minor": 0,
 "worksheets": [
  {
   "cells": [
    {
     "cell_type": "code",
     "collapsed": false,
     "input": [
      "from pykat import finesse\n",
      "import matplotlib\n",
      "import matplotlib.pyplot as plt\n",
      "from IPython.utils import io\n",
      "with io.capture_output() as captured:\n",
      "    from IPython import get_ipython\n",
      "    ipython = get_ipython()\n",
      "    ipython.magic(\"matplotlib inline\")\n",
      "    \n",
      "kat = finesse.kat()\n",
      "code = '''\n",
      "1 laser 1 0 n0\n",
      "s s1 1 n0 n1\n",
      "m mirror 0.9 0.1 0 n1 n2\n",
      "pd pout n1\n",
      "xaxis laser P lin 0 10 200\n",
      "yaxis abs\n",
      "'''\n",
      "kat.parseCommands(code)\n",
      "out = kat.run()\n",
      "fig = out.plot()\n"
     ],
     "language": "python",
     "metadata": {},
     "outputs": [
      {
       "output_type": "stream",
       "stream": "stdout",
       "text": [
        "                                              ..-\n",
        "    PyKat 1.0.13          _                  '(\n",
        "                          \\`.|\\.__...-\"\"\"\"-_.\" )\n",
        "       ..+-----.._        /  ' `            .-'\n",
        "   . '            `:      7/* _/._\\    \\   (\n",
        "  (        '::;;+;;:      `-\"' =\" /,`\"\" `) /\n",
        "  L.        \\`:::a:f            c_/     n_'\n",
        "  ..`--...___`.  .    ,  \n",
        "   `^-....____:   +.      www.gwoptics.org/pykat\n",
        "\n",
        "Parsing `1 laser 1 0 n0` into pykat object not implemented yet, added as extra line."
       ]
      },
      {
       "output_type": "stream",
       "stream": "stdout",
       "text": [
        "\n",
        "\u001b[91m\n",
        "--------------------------------------------------------------\n",
        "Error from pykat:\n",
        "The environment variable FINESSE_DIR was not defined\n",
        "--------------------------------------------------------------\n",
        "\u001b[0m\n",
        "\n",
        "Finished in 0.00200009 seconds\n"
       ]
      },
      {
       "ename": "SystemExit",
       "evalue": "1",
       "output_type": "pyerr",
       "traceback": [
        "An exception has occurred, use %tb to see the full traceback.\n",
        "\u001b[1;31mSystemExit\u001b[0m\u001b[1;31m:\u001b[0m 1\n"
       ]
      },
      {
       "output_type": "stream",
       "stream": "stderr",
       "text": [
        "To exit: use 'exit', 'quit', or Ctrl-D.\n"
       ]
      }
     ],
     "prompt_number": 1
    },
    {
     "cell_type": "code",
     "collapsed": false,
     "input": [
      "import matplotlib.pyplot as plt\n",
      "plt.plot([1,2,3,4])\n",
      "plt.ylabel('some numbers')\n",
      "plt.show()"
     ],
     "language": "python",
     "metadata": {},
     "outputs": [
      {
       "metadata": {},
       "output_type": "display_data",
       "png": "[encoded data removed]",
       "text": [
        "<matplotlib.figure.Figure at 0xbfbd670>"
       ]
      }
     ],
     "prompt_number": 2
    },
    {
     "cell_type": "code",
     "collapsed": false,
     "input": [],
     "language": "python",
     "metadata": {},
     "outputs": []
    }
   ],
   "metadata": {}
  }
 ]
}